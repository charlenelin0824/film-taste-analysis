{
 "cells": [
  {
   "cell_type": "code",
   "execution_count": 1,
   "metadata": {},
   "outputs": [],
   "source": [
    "import requests\n",
    "from requests.auth import HTTPBasicAuth\n",
    "import webbrowser"
   ]
  },
  {
   "cell_type": "code",
   "execution_count": 2,
   "metadata": {},
   "outputs": [],
   "source": [
    "# Constants\n",
    "client_id = '53c4e379d7f3d58d2d5afcbe5d1a060e4f3627b0f4471f20e71f119807685dfe'  # Replace with your API Key\n",
    "redirect_uri = 'urn:ietf:wg:oauth:2.0:oob'  # Replace with your registered Redirect URI\n",
    "auth_url = 'https://api.simkl.com/oauth/pin'\n",
    "token_url = 'https://api.simkl.com/oauth/token'"
   ]
  },
  {
   "cell_type": "code",
   "execution_count": 3,
   "metadata": {},
   "outputs": [
    {
     "data": {
      "text/plain": [
       "True"
      ]
     },
     "execution_count": 3,
     "metadata": {},
     "output_type": "execute_result"
    }
   ],
   "source": [
    "# Step 1: Direct the user to the authentication URL to get the authorization PIN\n",
    "webbrowser.open(auth_url)"
   ]
  },
  {
   "cell_type": "code",
   "execution_count": 6,
   "metadata": {},
   "outputs": [],
   "source": [
    "# Step 2: After the user authorizes the app and receives a PIN, prompt them to enter it\n",
    "pin_code = \"731B3\""
   ]
  },
  {
   "cell_type": "code",
   "execution_count": 7,
   "metadata": {},
   "outputs": [],
   "source": [
    "# Step 3: Exchange the PIN code for an access token\n",
    "token_data = {\n",
    "    'code': pin_code,\n",
    "    'client_id': client_id,\n",
    "    'redirect_uri': redirect_uri,\n",
    "    'grant_type': 'authorization_code'\n",
    "}"
   ]
  },
  {
   "cell_type": "code",
   "execution_count": 12,
   "metadata": {},
   "outputs": [],
   "source": [
    "\n",
    "# Post request to exchange PIN for a token\n",
    "response = requests.post(token_url, data=token_data)\n",
    "response_json = response.json()\n",
    "\n",
    "# Save the token in a secure place\n",
    "token = response_json.get('access_token')\n",
    "\n",
    "# Step 4: Use the token to access the API\n",
    "api_url = 'https://api.simkl.com/'\n",
    "headers = {\n",
    "    'Authorization': f'Bearer {token}',\n",
    "    'Client-ID': client_id,\n",
    "    'Content-Type': 'application/json',\n",
    "    'simkl-api-key': client_id\n",
    "}\n"
   ]
  },
  {
   "cell_type": "code",
   "execution_count": 18,
   "metadata": {},
   "outputs": [],
   "source": [
    "\n",
    "# URL for the movie data with the 'extended' parameter to get genre information\n",
    "url = 'https://api.simkl.com/full?extended={genres}&limit=100'\n",
    "\n",
    "# Make the GET request to the Simkl API\n",
    "response = requests.get(url, headers=headers)\n",
    "\n",
    "# Check if the request was successful\n",
    "if response.status_code == 200:\n",
    "    # Parse the response JSON data\n",
    "    movies_data = response.json()\n",
    "    \n",
    "    # Process the movies data as needed\n",
    "    for movie in movies_data:\n",
    "        print(f\"Title: {movie.get('title')}, Genre: {movie.get('genres')}\")\n",
    "    else:\n",
    "        print(f\"Failed to retrieve data: Status code {response.status_code}\")\n"
   ]
  },
  {
   "cell_type": "markdown",
   "metadata": {},
   "source": [
    "## Plot the distributions\n",
    "\n",
    "* Plot the distributions for each grader in a way that lets you compare them. You can again use dotplots (`geom_point`) and boxplots (`geom_boxplot`).\n",
    "* If you want somethig new try `geom_density` (a close cousin of our friend `geom_histogram(position=\"identity\")`. \n",
    "* Don't forget to set `alpha` to something lower than 1 so that you can see when points or bars overlap."
   ]
  }
 ],
 "metadata": {
  "kernelspec": {
   "display_name": "Python 3",
   "language": "python",
   "name": "python3"
  },
  "language_info": {
   "codemirror_mode": {
    "name": "ipython",
    "version": 3
   },
   "file_extension": ".py",
   "mimetype": "text/x-python",
   "name": "python",
   "nbconvert_exporter": "python",
   "pygments_lexer": "ipython3",
   "version": "3.11.6"
  }
 },
 "nbformat": 4,
 "nbformat_minor": 2
}
